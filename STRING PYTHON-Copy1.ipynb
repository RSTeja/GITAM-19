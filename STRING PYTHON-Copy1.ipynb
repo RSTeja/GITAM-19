{
 "cells": [
  {
   "cell_type": "code",
   "execution_count": 32,
   "metadata": {},
   "outputs": [
    {
     "name": "stdout",
     "output_type": "stream",
     "text": [
      "True\n",
      "False\n",
      "True\n",
      "True\n",
      "jupiter\n",
      "cs4\n",
      "False\n",
      "False\n",
      "JUPITER\n",
      "CS4\n",
      "False\n",
      "False\n",
      "JUPITER\n",
      "CS4\n",
      "False\n",
      "False\n",
      "Jupiter\n",
      "Cs4\n",
      "False\n",
      "False\n"
     ]
    }
   ],
   "source": [
    "s=\"jupiter\"\n",
    "s1=\"cs4\"\n",
    "print(s.isalpha())\n",
    "print(s1.isalpha())\n",
    "print(s.islower())\n",
    "print(s1.islower())\n",
    "print(s.lower())\n",
    "print(s1.lower())\n",
    "print(s.isupper())\n",
    "print(s1.isupper())\n",
    "print(s.upper())\n",
    "print(s1.upper())\n",
    "print(s.isnumeric())\n",
    "print(s1.isnumeric())\n",
    "print(s.swapcase())\n",
    "print(s1.swapcase())\n",
    "print(s.isspace())\n",
    "print(s1.isspace())\n",
    "print(s.title())\n",
    "print(s1.title())\n",
    "print(s.istitle())\n",
    "print(s1.istitle())"
   ]
  },
  {
   "cell_type": "code",
   "execution_count": 20,
   "metadata": {},
   "outputs": [
    {
     "name": "stdout",
     "output_type": "stream",
     "text": [
      "jupiter mars earth\n"
     ]
    }
   ],
   "source": [
    "print(\"+\".join([\"jupiter\"\" mars\"\" earth\"]))"
   ]
  },
  {
   "cell_type": "code",
   "execution_count": 24,
   "metadata": {},
   "outputs": [
    {
     "name": "stdout",
     "output_type": "stream",
     "text": [
      "['python', 'programming', 'is', 'easy', 'to', 'learn']\n",
      "2\n"
     ]
    }
   ],
   "source": [
    "s=\"python programming is easy to learn\"\n",
    "lst=s.split()\n",
    "print(lst)\n",
    "print(lst.index(\"is\"))"
   ]
  },
  {
   "cell_type": "code",
   "execution_count": 21,
   "metadata": {},
   "outputs": [
    {
     "name": "stdout",
     "output_type": "stream",
     "text": [
      "['p', 'y', 't', 'h', 'o', 'n', ' ', 'p', 'r', 'o', 'g', 'r', 'a', 'm', 'm', 'i', 'n', 'g', ' ', 'i', 's', ' ', 'e', 'a', 's', 'y', ' ', 't', 'o', ' ', 'l', 'e', 'a', 'r', 'n']\n"
     ]
    }
   ],
   "source": [
    "s=\"python programming is easy to learn\"\n",
    "lst=list(s)\n",
    "print(lst)"
   ]
  },
  {
   "cell_type": "code",
   "execution_count": 43,
   "metadata": {},
   "outputs": [
    {
     "name": "stdout",
     "output_type": "stream",
     "text": [
      "mohit is good\n"
     ]
    },
    {
     "data": {
      "text/plain": [
       "'mohit is best'"
      ]
     },
     "execution_count": 43,
     "metadata": {},
     "output_type": "execute_result"
    }
   ],
   "source": [
    "s=\"mohit is good\"\n",
    "print(s)\n",
    "s.replace(\"good\",\"best\")"
   ]
  },
  {
   "cell_type": "code",
   "execution_count": 46,
   "metadata": {},
   "outputs": [
    {
     "ename": "SyntaxError",
     "evalue": "invalid syntax (<ipython-input-46-e24a1f598f9b>, line 4)",
     "output_type": "error",
     "traceback": [
      "\u001b[1;36m  File \u001b[1;32m\"<ipython-input-46-e24a1f598f9b>\"\u001b[1;36m, line \u001b[1;32m4\u001b[0m\n\u001b[1;33m    print.(t)\u001b[0m\n\u001b[1;37m          ^\u001b[0m\n\u001b[1;31mSyntaxError\u001b[0m\u001b[1;31m:\u001b[0m invalid syntax\n"
     ]
    }
   ],
   "source": [
    "t=(\"Python\",\"Programming\",1969,1999,\"Machine learning\")\n",
    "print(t)\n",
    "del t\n",
    "print.(t)"
   ]
  },
  {
   "cell_type": "code",
   "execution_count": 49,
   "metadata": {},
   "outputs": [
    {
     "name": "stdout",
     "output_type": "stream",
     "text": [
      "Python=>Programming=>1969=>1999=>Machine learning=>"
     ]
    }
   ],
   "source": [
    "t=(\"Python\",\"Programming\",1969,1999,\"Machine learning\")\n",
    "for i in range(len(t)):\n",
    "    print(t[i],end=\"=>\")"
   ]
  },
  {
   "cell_type": "code",
   "execution_count": 52,
   "metadata": {},
   "outputs": [
    {
     "name": "stdout",
     "output_type": "stream",
     "text": [
      "roshan=>sate=>sreekar=>mohit=>churi=>sandeep=>('roshan', 'sate', 'sreekar', 'mohit', 'churi', 'sandeep', 'roshan', 'sate', 'sreekar', 'mohit', 'churi', 'sandeep')\n",
      "12\n"
     ]
    }
   ],
   "source": [
    "t1=(\"roshan\",\"sate\",\"sreekar\",\"mohit\",\"churi\",\"sandeep\")\n",
    "\n",
    "for i in range(len(t1)):\n",
    "    print(t1[i],end=\"=>\")\n",
    "t2=(\"roshan\",\"sate\",\"sreekar\",\"mohit\",\"churi\",\"sandeep\")\n",
    "t3=t1+t2\n",
    "print(t3)\n",
    "print(len(t3))"
   ]
  },
  {
   "cell_type": "code",
   "execution_count": 53,
   "metadata": {},
   "outputs": [
    {
     "data": {
      "text/plain": [
       "7"
      ]
     },
     "execution_count": 53,
     "metadata": {},
     "output_type": "execute_result"
    }
   ],
   "source": [
    "t1=(1,2,3,4,5,6,7)\n",
    "max(t1)"
   ]
  },
  {
   "cell_type": "code",
   "execution_count": 59,
   "metadata": {},
   "outputs": [
    {
     "data": {
      "text/plain": [
       "'sreekar'"
      ]
     },
     "execution_count": 59,
     "metadata": {},
     "output_type": "execute_result"
    }
   ],
   "source": [
    "t6=(\"roshan\",\"sate\",\"sreekar\",\"mohit\",\"churi\",\"sandeep\",\"a\")\n",
    "max(t6)"
   ]
  },
  {
   "cell_type": "code",
   "execution_count": 57,
   "metadata": {},
   "outputs": [
    {
     "name": "stdout",
     "output_type": "stream",
     "text": [
      "('roshan', 'sate', 'sreekar', 'mohit', 'churi', 'sandeep', 'a')\n"
     ]
    }
   ],
   "source": [
    "l=[\"roshan\",\"sate\",\"sreekar\",\"mohit\",\"churi\",\"sandeep\",\"a\"]\n",
    "t1=tuple(l)\n",
    "print(t1)"
   ]
  },
  {
   "cell_type": "code",
   "execution_count": 66,
   "metadata": {},
   "outputs": [
    {
     "name": "stdout",
     "output_type": "stream",
     "text": [
      "NAME= Mohit\n",
      "EMAIL-ID= mohithreddy.vatti@gmail.com\n",
      "AGE= 20\n",
      "MOBILE-NUMBER= 7729818289\n"
     ]
    }
   ],
   "source": [
    "user1={'NAME':'Mohit','AGE':'20','EMAIL-ID':'mohithreddy.vatti@gmail.com','MOBILE-NUMBER':'7729818289'}\n",
    "print(\"NAME=\",user1['NAME'])\n",
    "print(\"EMAIL-ID=\",user1['EMAIL-ID'])\n",
    "print(\"AGE=\",user1['AGE'])\n",
    "print(\"MOBILE-NUMBER=\",user1['MOBILE-NUMBER'])"
   ]
  },
  {
   "cell_type": "code",
   "execution_count": 74,
   "metadata": {},
   "outputs": [
    {
     "name": "stdout",
     "output_type": "stream",
     "text": [
      "USER 1\n",
      " \n",
      "NAME= Mohit\n",
      "EMAIL-ID= mohithreddy.vatti@gmail.com\n",
      "AGE= 20\n",
      "MOBILE-NUMBER= 7729818289\n",
      " \n",
      "USER2\n",
      " \n",
      "NAME= Roshan\n",
      "EMAIL-ID= roshan13341@gmail.com\n",
      "AGE= 18\n",
      "MOBILE-NUMBER= 9999999999\n"
     ]
    },
    {
     "data": {
      "text/plain": [
       "4"
      ]
     },
     "execution_count": 74,
     "metadata": {},
     "output_type": "execute_result"
    }
   ],
   "source": [
    "print(\"USER 1\")\n",
    "print(\" \")\n",
    "user1={'NAME':'Roshan','AGE':'20','EMAIL-ID':'mohithreddy.vatti@gmail.com','MOBILE-NUMBER':'7729818289'}\n",
    "user1['NAME']='Mohit'\n",
    "user2={'NAME':'Roshan','AGE':'18','EMAIL-ID':'roshan13341@gmail.com','MOBILE-NUMBER':'9999999999'}\n",
    "print(\"NAME=\",user1['NAME'])\n",
    "print(\"EMAIL-ID=\",user1['EMAIL-ID'])\n",
    "print(\"AGE=\",user1['AGE'])\n",
    "print(\"MOBILE-NUMBER=\",user1['MOBILE-NUMBER'])\n",
    "print(\" \")\n",
    "print(\"USER2\")\n",
    "print(\" \")\n",
    "print(\"NAME=\",user2['NAME'])\n",
    "print(\"EMAIL-ID=\",user2['EMAIL-ID'])\n",
    "print(\"AGE=\",user2['AGE'])\n",
    "print(\"MOBILE-NUMBER=\",user2['MOBILE-NUMBER'])\n",
    "len(user2)"
   ]
  },
  {
   "cell_type": "code",
   "execution_count": 83,
   "metadata": {},
   "outputs": [
    {
     "name": "stdout",
     "output_type": "stream",
     "text": [
      "NAME= Mohit\n",
      "EMAIL-ID= mohithreddy.vatti@gmail.com\n",
      "AGE= 20\n",
      "MOBILE-NUMBER= 7729818289\n",
      "{'NAME': 'Mohit', 'AGE': '20', 'EMAIL-ID': 'mohithreddy.vatti@gmail.com', 'MOBILE-NUMBER': '7729818289', 'ADDRESS': 'Gachibowli'}\n",
      "{'NAME': 'Mohit', 'AGE': '20', 'EMAIL-ID': 'mohithreddy.vatti@gmail.com', 'MOBILE-NUMBER': '7729818289', 'ADDRESS': 'Gachibowli'}\n"
     ]
    }
   ],
   "source": [
    "user1={'NAME':'Roshan','AGE':'20','EMAIL-ID':'mohithreddy.vatti@gmail.com','MOBILE-NUMBER':'7729818289'}\n",
    "user1['NAME']='Mohit'\n",
    "user2={'NAME':'Roshan','AGE':'18','EMAIL-ID':'roshan13341@gmail.com','MOBILE-NUMBER':'9999999999'}\n",
    "print(\"NAME=\",user1['NAME'])\n",
    "print(\"EMAIL-ID=\",user1['EMAIL-ID'])\n",
    "print(\"AGE=\",user1['AGE'])\n",
    "print(\"MOBILE-NUMBER=\",user1['MOBILE-NUMBER'])\n",
    "user1['ADDRESS']='Gachibowli'\n",
    "user2=user1.copy()\n",
    "print(user1)\n",
    "print(user2)\n"
   ]
  },
  {
   "cell_type": "code",
   "execution_count": 80,
   "metadata": {},
   "outputs": [
    {
     "data": {
      "text/plain": [
       "dict_items([('NAME', 'Roshan'), ('AGE', '20'), ('EMAIL-ID', 'mohithreddy.vatti@gmail.com'), ('MOBILE-NUMBER', '7729818289')])"
      ]
     },
     "execution_count": 80,
     "metadata": {},
     "output_type": "execute_result"
    }
   ],
   "source": [
    "user1={'NAME':'Roshan','AGE':'20','EMAIL-ID':'mohithreddy.vatti@gmail.com','MOBILE-NUMBER':'7729818289'}\n",
    "user1.items()"
   ]
  },
  {
   "cell_type": "code",
   "execution_count": 81,
   "metadata": {},
   "outputs": [
    {
     "data": {
      "text/plain": [
       "dict_values(['Roshan', '20', 'mohithreddy.vatti@gmail.com', '7729818289'])"
      ]
     },
     "execution_count": 81,
     "metadata": {},
     "output_type": "execute_result"
    }
   ],
   "source": [
    "user1={'NAME':'Roshan','AGE':'20','EMAIL-ID':'mohithreddy.vatti@gmail.com','MOBILE-NUMBER':'7729818289'}\n",
    "user1.values()"
   ]
  },
  {
   "cell_type": "code",
   "execution_count": 87,
   "metadata": {},
   "outputs": [
    {
     "name": "stdout",
     "output_type": "stream",
     "text": [
      "NAME\n",
      "NAME\n"
     ]
    }
   ],
   "source": [
    "user1={'NAME':'Roshan','AGE':'20','EMAIL-ID':'mohithreddy.vatti@gmail.com','MOBILE-NUMBER':'7729818289'}\n",
    "lst=list(user1)\n",
    "print(lst[0])\n",
    "print(\"{0}\".format(lst[0]))"
   ]
  },
  {
   "cell_type": "code",
   "execution_count": 112,
   "metadata": {},
   "outputs": [
    {
     "name": "stdout",
     "output_type": "stream",
     "text": [
      "contact mohit added\n",
      "contact roshan added\n",
      "contact sreekar added\n",
      "contact mohit already exists\n",
      "mohit : 9898989898\n",
      "roshan : 9797979797\n",
      "sreekar : 9696969696\n",
      "surya doesnt exists\n",
      "{'mohit': 9898989898, 'roshan': 9797979797, 'sreekar': 9696969696}  \n",
      " \n",
      "2 contacts added succesfully\n",
      "{'mohit': 9898989898, 'roshan': 9797979797, 'sreekar': 9696969696, 'me': 959595959595, 'mine': 949494949494}  \n",
      " \n",
      "me is deleted from the contacts\n",
      "mine is deleted from the contacts\n",
      "{'mohit': 9898989898, 'roshan': 9797979797, 'sreekar': 9696969696} "
     ]
    }
   ],
   "source": [
    "contacts={}\n",
    "def addcontact(name,phone):\n",
    "    if name.upper() and name.lower() not in contacts:\n",
    "        contacts[name]=phone\n",
    "        print(\"contact %s added\"% name)\n",
    "    else:\n",
    "        print(\"contact %s already exists\"% name)\n",
    "    return\n",
    "addcontact(\"mohit\",9898989898)\n",
    "addcontact(\"roshan\",9797979797)\n",
    "addcontact(\"sreekar\",9696969696)\n",
    "addcontact(\"mohit\",9898989898)\n",
    "def searchcontact(name):\n",
    "    if name.upper() and name.lower() in contacts:\n",
    "        print(name,\":\" , contacts[name])\n",
    "    else:\n",
    "        print(\"%s doesnt exists\"% name)\n",
    "    return\n",
    "searchcontact(\"mohit\")\n",
    "searchcontact(\"roshan\")\n",
    "searchcontact(\"sreekar\")\n",
    "searchcontact(\"surya\")\n",
    "print(contacts,end=\" \")\n",
    "print(\" \")\n",
    "print(\" \")\n",
    "def importcontacts(newcontact):\n",
    "    contacts.update(newcontact)\n",
    "    print(len(newcontact.keys()),\"contacts added succesfully\")\n",
    "    return\n",
    "newcontact={'me':959595959595,'mine':949494949494}\n",
    "importcontacts(newcontact)\n",
    "print(contacts,end=\" \")\n",
    "print(\" \")\n",
    "print(\" \")\n",
    "def deletecontact(name):\n",
    "    if name.upper() and name.lower() in contacts:\n",
    "        del contacts[name]\n",
    "        print(name, \"is deleted from the contacts\")\n",
    "    else:\n",
    "        print(name, \"doesnt exsits in the contacts\")\n",
    "    return\n",
    "deletecontact(\"me\")\n",
    "deletecontact(\"mine\")\n",
    "print(contacts,end=\" \")"
   ]
  },
  {
   "cell_type": "code",
   "execution_count": 114,
   "metadata": {},
   "outputs": [
    {
     "name": "stdout",
     "output_type": "stream",
     "text": [
      "value at : 1 value at : 2\n",
      "value at : 3 value at : 4\n"
     ]
    }
   ],
   "source": [
    "lst=[1,2,3,4]\n",
    "print(\"value at : {0} value at : {1}\".format(lst[0],lst[1]))\n",
    "print(\"value at : {0} value at : {1}\".format(lst[2],lst[3]))"
   ]
  },
  {
   "cell_type": "code",
   "execution_count": 117,
   "metadata": {},
   "outputs": [
    {
     "name": "stdout",
     "output_type": "stream",
     "text": [
      "1 2 3 4 \n"
     ]
    }
   ],
   "source": [
    "lst=[1,2,3,4]\n",
    "print(\"%d %d %d %d \"%(lst[0],lst[1],lst[2],lst[3]))"
   ]
  },
  {
   "cell_type": "code",
   "execution_count": 120,
   "metadata": {},
   "outputs": [
    {
     "data": {
      "text/plain": [
       "120"
      ]
     },
     "execution_count": 120,
     "metadata": {},
     "output_type": "execute_result"
    }
   ],
   "source": [
    "import math\n",
    "math.factorial(5)"
   ]
  },
  {
   "cell_type": "code",
   "execution_count": null,
   "metadata": {},
   "outputs": [],
   "source": []
  }
 ],
 "metadata": {
  "kernelspec": {
   "display_name": "Python 3",
   "language": "python",
   "name": "python3"
  },
  "language_info": {
   "codemirror_mode": {
    "name": "ipython",
    "version": 3
   },
   "file_extension": ".py",
   "mimetype": "text/x-python",
   "name": "python",
   "nbconvert_exporter": "python",
   "pygments_lexer": "ipython3",
   "version": "3.7.3"
  }
 },
 "nbformat": 4,
 "nbformat_minor": 2
}
