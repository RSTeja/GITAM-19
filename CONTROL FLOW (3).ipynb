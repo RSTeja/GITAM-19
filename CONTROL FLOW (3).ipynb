{
 "cells": [
  {
   "cell_type": "code",
   "execution_count": 2,
   "metadata": {},
   "outputs": [
    {
     "name": "stdout",
     "output_type": "stream",
     "text": [
      "True\n"
     ]
    }
   ],
   "source": [
    "print( 3 >= 3)"
   ]
  },
  {
   "cell_type": "code",
   "execution_count": 3,
   "metadata": {},
   "outputs": [
    {
     "name": "stdout",
     "output_type": "stream",
     "text": [
      "number is greater than y\n"
     ]
    }
   ],
   "source": [
    "x=20;\n",
    "y=10\n",
    "if(x<=y):\n",
    "    print(\"number is less than y\")\n",
    "else:\n",
    "    print(\"number is greater than y\")"
   ]
  },
  {
   "cell_type": "code",
   "execution_count": 4,
   "metadata": {},
   "outputs": [
    {
     "name": "stdout",
     "output_type": "stream",
     "text": [
      "4\n"
     ]
    }
   ],
   "source": [
    "x=2\n",
    "y=2\n",
    "if(x==y):\n",
    "    print(x**y)\n",
    "else:\n",
    "    print(x*y)"
   ]
  },
  {
   "cell_type": "code",
   "execution_count": 5,
   "metadata": {},
   "outputs": [
    {
     "name": "stdout",
     "output_type": "stream",
     "text": [
      "x is zero\n"
     ]
    }
   ],
   "source": [
    "x=0\n",
    "if(x==0):\n",
    "    print(\"x is zero\")\n",
    "elif(x>0):\n",
    "    print(\"x is positive\")\n",
    "else:\n",
    "    print(\"x is negative\")"
   ]
  },
  {
   "cell_type": "code",
   "execution_count": 6,
   "metadata": {},
   "outputs": [
    {
     "name": "stdout",
     "output_type": "stream",
     "text": [
      "55\n"
     ]
    }
   ],
   "source": [
    "x=1\n",
    "y=10\n",
    "sum=0\n",
    "while(x<=y):\n",
    "    sum=sum+x\n",
    "    x=x+1\n",
    "print(sum)"
   ]
  },
  {
   "cell_type": "code",
   "execution_count": 7,
   "metadata": {},
   "outputs": [
    {
     "name": "stdout",
     "output_type": "stream",
     "text": [
      "10\n",
      "20\n",
      "165\n"
     ]
    }
   ],
   "source": [
    "x=int(input())\n",
    "y=int(input())\n",
    "sum=0\n",
    "while(x<=y):\n",
    "    sum=sum+x\n",
    "    x=x+1\n",
    "print(sum)"
   ]
  },
  {
   "cell_type": "code",
   "execution_count": 10,
   "metadata": {},
   "outputs": [
    {
     "name": "stdout",
     "output_type": "stream",
     "text": [
      "10\n",
      "9\n",
      "8\n",
      "7\n",
      "6\n",
      "5\n",
      "4\n",
      "3\n",
      "2\n",
      "1\n"
     ]
    }
   ],
   "source": [
    "x=10\n",
    "y=1\n",
    "while(x>=y):\n",
    "    print(x)\n",
    "    x-=1\n"
   ]
  },
  {
   "cell_type": "code",
   "execution_count": 11,
   "metadata": {},
   "outputs": [
    {
     "name": "stdout",
     "output_type": "stream",
     "text": [
      "-22\n",
      "-23\n",
      "-24\n",
      "-25\n",
      "-26\n",
      "-27\n",
      "-28\n",
      "-29\n",
      "-30\n",
      "-31\n",
      "-32\n",
      "-33\n",
      "-34\n",
      "-35\n",
      "-36\n",
      "-37\n",
      "-38\n",
      "-39\n",
      "-40\n",
      "-41\n",
      "-42\n",
      "-43\n",
      "-44\n",
      "-45\n"
     ]
    }
   ],
   "source": [
    "x=-22\n",
    "y=-45\n",
    "while(x>=y):\n",
    "    print(x)\n",
    "    x-=1"
   ]
  },
  {
   "cell_type": "code",
   "execution_count": 13,
   "metadata": {},
   "outputs": [
    {
     "name": "stdout",
     "output_type": "stream",
     "text": [
      "2550\n"
     ]
    }
   ],
   "source": [
    "x=0\n",
    "y=100\n",
    "sum=0\n",
    "while(x<=y):\n",
    "    sum=sum+x\n",
    "    x+=2\n",
    "print(sum)"
   ]
  },
  {
   "cell_type": "code",
   "execution_count": 14,
   "metadata": {},
   "outputs": [
    {
     "name": "stdout",
     "output_type": "stream",
     "text": [
      "enter lower limit0\n",
      "enter upper limit100\n",
      "2550\n"
     ]
    }
   ],
   "source": [
    "x=int(input(\"enter lower limit\"))\n",
    "y=int(input(\"enter upper limit\"))\n",
    "sum=0\n",
    "while(x<=y):\n",
    "    sum=sum+x\n",
    "    x+=2\n",
    "print(sum)"
   ]
  },
  {
   "cell_type": "code",
   "execution_count": 19,
   "metadata": {},
   "outputs": [
    {
     "name": "stdout",
     "output_type": "stream",
     "text": [
      "enter any number123\n",
      "3\n",
      "2\n",
      "1\n"
     ]
    }
   ],
   "source": [
    "x=int(input(\"enter any number\"))\n",
    "r=0\n",
    "while(x!=0):\n",
    "    r=x%10;\n",
    "    print(r);\n",
    "    x=x//10;\n",
    "    "
   ]
  },
  {
   "cell_type": "code",
   "execution_count": 26,
   "metadata": {},
   "outputs": [
    {
     "name": "stdout",
     "output_type": "stream",
     "text": [
      "enter a number1234\n",
      "4\n",
      "3\n",
      "2\n",
      "1\n",
      "6\n"
     ]
    }
   ],
   "source": [
    "x=int(input(\"enter a number\"))\n",
    "r=0\n",
    "i=0\n",
    "sum=0\n",
    "while(x!=0):\n",
    "    r=x%10\n",
    "    print(r)\n",
    "    if(r%2==0):\n",
    "        sum=sum+r\n",
    "    x=x//10\n",
    "print(sum)\n"
   ]
  },
  {
   "cell_type": "code",
   "execution_count": 33,
   "metadata": {},
   "outputs": [
    {
     "name": "stdout",
     "output_type": "stream",
     "text": [
      "enter any number1234\n",
      "four\n",
      "three\n",
      "two\n",
      "one\n"
     ]
    }
   ],
   "source": [
    "x=int(input(\"enter any number\"))\n",
    "r=0\n",
    "while(x!=0):\n",
    "    r=x%10;\n",
    "    if(r==1):\n",
    "        print(\"one\")\n",
    "    elif(r==2):\n",
    "        print(\"two\")\n",
    "    elif(r==3):\n",
    "        print(\"three\")\n",
    "    elif(r==4):\n",
    "        print(\"four\")\n",
    "    elif(r==5):\n",
    "        print(\"five\")\n",
    "    elif(r==6):\n",
    "        print(\"six\")\n",
    "    elif(r==7):\n",
    "        print(\"seven\")\n",
    "    elif(r==8):\n",
    "        print(\"eight\")\n",
    "    else:\n",
    "        print(\"nine\")\n",
    "    x=x//10;"
   ]
  },
  {
   "cell_type": "code",
   "execution_count": null,
   "metadata": {},
   "outputs": [],
   "source": [
    "digit=int(input(\"enter a single digit number\"))\n",
    "a=int(input(\"enter a number\"))\n",
    "b=int(input(\"enter another number\"))\n",
    "cnt=0\n",
    "while(a!=b):\n",
    "    buffer=a;\n",
    "    while(a!=0):\n",
    "        "
   ]
  },
  {
   "cell_type": "code",
   "execution_count": 38,
   "metadata": {},
   "outputs": [
    {
     "name": "stdout",
     "output_type": "stream",
     "text": [
      "120\n",
      "3628800\n",
      "1307674368000\n"
     ]
    }
   ],
   "source": [
    "def find(n):\n",
    "    fact=1\n",
    "    while(n!=0):\n",
    "        fact=fact*n;\n",
    "        n=n-1;\n",
    "    return fact;\n",
    "print(find(5))\n",
    "print(find(10))\n",
    "print(find(15))"
   ]
  },
  {
   "cell_type": "code",
   "execution_count": 1,
   "metadata": {},
   "outputs": [
    {
     "data": {
      "text/plain": [
       "'C:\\\\Users\\\\student'"
      ]
     },
     "execution_count": 1,
     "metadata": {},
     "output_type": "execute_result"
    }
   ],
   "source": [
    "import os\n",
    "os.getcwd()"
   ]
  },
  {
   "cell_type": "code",
   "execution_count": 2,
   "metadata": {},
   "outputs": [
    {
     "name": "stdout",
     "output_type": "stream",
     "text": [
      "99\n"
     ]
    }
   ],
   "source": [
    "def countOfPalindromes(n1,n2):\n",
    "    cnt=0\n",
    "    while n1!=n2:\n",
    "        sum=0\n",
    "        buffer=n1\n",
    "        while n1!=0:\n",
    "            r=n1%10\n",
    "            sum=(sum*10)+r\n",
    "            n1=n1//10\n",
    "        if buffer==sum:\n",
    "            cnt=cnt+1\n",
    "        n1=buffer\n",
    "        n1=n1+1\n",
    "    return cnt\n",
    "\n",
    "print(countOfPalindromes(10,1000))\n",
    "\n"
   ]
  },
  {
   "cell_type": "code",
   "execution_count": 4,
   "metadata": {},
   "outputs": [
    {
     "name": "stdout",
     "output_type": "stream",
     "text": [
      "8\n",
      "None\n"
     ]
    }
   ],
   "source": [
    "def even(n):\n",
    "    m=n;\n",
    "    if(n<=m):\n",
    "        if(n%2==0):\n",
    "            print(n)\n",
    "\n",
    "print(even(8))"
   ]
  },
  {
   "cell_type": "code",
   "execution_count": 41,
   "metadata": {},
   "outputs": [
    {
     "name": "stdout",
     "output_type": "stream",
     "text": [
      "12\n"
     ]
    }
   ],
   "source": [
    "def printev(n):\n",
    "    cnt=0;\n",
    "    sum=0;\n",
    "    while(cnt!=n):\n",
    "        if(cnt%2==0):\n",
    "            sum=sum+cnt;\n",
    "        cnt+=1\n",
    "    return sum;\n",
    "print(printev(8));"
   ]
  },
  {
   "cell_type": "code",
   "execution_count": 39,
   "metadata": {},
   "outputs": [
    {
     "name": "stdout",
     "output_type": "stream",
     "text": [
      "1 2 3 4 6 "
     ]
    }
   ],
   "source": [
    "def factors(n):\n",
    "    i=1;\n",
    "    while(i!=n):\n",
    "        if(n%i==0):\n",
    "            print(i,end=\" \");\n",
    "        i+=1\n",
    "    return ;\n",
    "factors(12);"
   ]
  },
  {
   "cell_type": "code",
   "execution_count": 46,
   "metadata": {},
   "outputs": [
    {
     "name": "stdout",
     "output_type": "stream",
     "text": [
      "[0, 1, 2, 3, 4]\n"
     ]
    }
   ],
   "source": [
    "list=[0,1,2,3,4]\n",
    "print(list)"
   ]
  },
  {
   "cell_type": "code",
   "execution_count": 51,
   "metadata": {},
   "outputs": [
    {
     "name": "stdout",
     "output_type": "stream",
     "text": [
      "0 1 2 3 4 "
     ]
    }
   ],
   "source": [
    "list=[0,1,2,3,4]\n",
    "for x in list:\n",
    "    print(x,end=\" \")"
   ]
  },
  {
   "cell_type": "code",
   "execution_count": 70,
   "metadata": {},
   "outputs": [
    {
     "name": "stdout",
     "output_type": "stream",
     "text": [
      "[1, 10, 2, 8, 5, 3] 1\n",
      "[3, 5, 8, 2, 10, 1]\n"
     ]
    },
    {
     "data": {
      "text/plain": [
       "4"
      ]
     },
     "execution_count": 70,
     "metadata": {},
     "output_type": "execute_result"
    }
   ],
   "source": [
    "list=[1,2,3,4,5]\n",
    "del list[2]\n",
    "list[2]=8\n",
    "list.append(3)\n",
    "list.insert(1,10)\n",
    "print(list,end=\" \")\n",
    "print(list.count(1))\n",
    "list.reverse()\n",
    "print(list)\n",
    "list.index(10)"
   ]
  },
  {
   "cell_type": "code",
   "execution_count": 76,
   "metadata": {},
   "outputs": [
    {
     "name": "stdout",
     "output_type": "stream",
     "text": [
      "target item found\n"
     ]
    }
   ],
   "source": [
    "def linearsearch(a,tar):\n",
    "    flag=0\n",
    "    for i in range(len(a)):\n",
    "        if a[i]==tar:\n",
    "            flag=1\n",
    "            break\n",
    "    if(flag!=0):\n",
    "        print(\"target item found\")\n",
    "    else:\n",
    "        print(\"target item not found\")\n",
    "a=[1,2,3,4,5,6,7,8]\n",
    "linearsearch(a,4)"
   ]
  },
  {
   "cell_type": "code",
   "execution_count": 86,
   "metadata": {},
   "outputs": [
    {
     "name": "stdout",
     "output_type": "stream",
     "text": [
      "! ! ! ! ! ! !  "
     ]
    }
   ],
   "source": [
    "def linear(a,tar):\n",
    "    for i in range(len(a)):\n",
    "        if a[i]==tar:\n",
    "            j=0\n",
    "            while j!=i+1:\n",
    "                print(\"!\",end=\" \")\n",
    "                j=j+1\n",
    "            print(end=\" \")\n",
    "a=[1,2,3,4,5,6,7,8,9]\n",
    "linear(a,7)"
   ]
  },
  {
   "cell_type": "code",
   "execution_count": 87,
   "metadata": {},
   "outputs": [
    {
     "name": "stdout",
     "output_type": "stream",
     "text": [
      "[15, 12, 2, 9, 18, 36, 45]\n",
      "60\n"
     ]
    }
   ],
   "source": [
    "list=[15,12,2,9,18,36,45]\n",
    "sum=0\n",
    "print(list)\n",
    "for i in range(len(list)):\n",
    "    if(list[i]%3==0 and list[i]%5==0):\n",
    "        sum=sum+list[i]\n",
    "print(sum)"
   ]
  },
  {
   "cell_type": "code",
   "execution_count": 113,
   "metadata": {},
   "outputs": [
    {
     "name": "stdout",
     "output_type": "stream",
     "text": [
      "4 4 4 4  6 6 6 6 6 6  8 8 8 8 8 8 8 8  "
     ]
    }
   ],
   "source": [
    "def linear(a,tar):\n",
    "    for i in range(len(a)):\n",
    "        if a[i]==tar:\n",
    "            j=0\n",
    "            while j!=i+1:\n",
    "                print(i+1,end=\" \")\n",
    "                j=j+1\n",
    "            print(end=\" \")\n",
    "a=[1,2,3,5,34,5,76,5]\n",
    "linear(a,5)"
   ]
  },
  {
   "cell_type": "markdown",
   "metadata": {},
   "source": [
    "i/p : list=[1,2,3,5,34,5,76,5] ,5\n",
    "o\\p: 4444 6666666  88888888"
   ]
  },
  {
   "cell_type": "code",
   "execution_count": 111,
   "metadata": {},
   "outputs": [
    {
     "name": "stdout",
     "output_type": "stream",
     "text": [
      "0 even 1 odd 2 even 3 odd 4 even 5 odd 6 even 7 odd 8 even 9 odd "
     ]
    }
   ],
   "source": [
    "list=[0,1,2,3,4,5,6,7,8,9]\n",
    "for i in list:\n",
    "    if(list[i]%2==0):\n",
    "        print(list[i],end=\" \")\n",
    "        print(\"even\",end=\" \")\n",
    "       \n",
    "    else:\n",
    "        print(list[i],end=\" \")\n",
    "        print(\"odd\",end=\" \")\n",
    "        \n"
   ]
  },
  {
   "cell_type": "code",
   "execution_count": 115,
   "metadata": {},
   "outputs": [
    {
     "name": "stdout",
     "output_type": "stream",
     "text": [
      "1 3 5 "
     ]
    }
   ],
   "source": [
    "a=[1,2,3,4,5, 14]\n",
    "for i in range(len(a)):\n",
    "    if(a[i-1]%2==0 and a[i+1]%2==0):\n",
    "        print(a[i],end=(\" \"))"
   ]
  },
  {
   "cell_type": "code",
   "execution_count": 121,
   "metadata": {},
   "outputs": [
    {
     "name": "stdout",
     "output_type": "stream",
     "text": [
      "enter number2727\n",
      "[2, 7, 2, 7]\n"
     ]
    }
   ],
   "source": [
    "a=[]\n",
    "n=int(input(\"enter number\"))\n",
    "while(n!=0):\n",
    "    r=n%10\n",
    "    a.append(r)\n",
    "    n=n//10\n",
    "a.reverse()\n",
    "print(a)"
   ]
  },
  {
   "cell_type": "markdown",
   "metadata": {},
   "source": []
  },
  {
   "cell_type": "code",
   "execution_count": 3,
   "metadata": {},
   "outputs": [
    {
     "name": "stdout",
     "output_type": "stream",
     "text": [
      "item found\n"
     ]
    }
   ],
   "source": [
    "def binary(a,lindex,rindex,tar):\n",
    "    while lindex<=rindex:\n",
    "        mindex=lindex+(rindex-lindex)//2\n",
    "        if a[mindex]==tar:\n",
    "            return mindex\n",
    "        if a[mindex]>tar:\n",
    "            rindex=mindex-1\n",
    "        else:\n",
    "            lindex=mindex+1\n",
    "    return -1\n",
    "list=[1,4,9,15,25,45,57,89,98]\n",
    "res=binary(list,0,8,45)\n",
    "if res!=1:\n",
    "    print(\"item found\")\n",
    "else:\n",
    "    print(\"item not found\")"
   ]
  },
  {
   "cell_type": "code",
   "execution_count": 1,
   "metadata": {},
   "outputs": [
    {
     "name": "stdout",
     "output_type": "stream",
     "text": [
      "1 3 6 18 19 25 "
     ]
    }
   ],
   "source": [
    "def bubble(a):\n",
    "    for i in range(len(a)-1):\n",
    "        for j in range(len(a)-1):\n",
    "            if a[j]>a[j+1]:\n",
    "                a[j],a[j+1]=a[j+1],a[j]\n",
    "    for i in range(len(a)):\n",
    "        print(a[i],end=\" \")\n",
    "list=[19,1,25,6,18,3]\n",
    "bubble(list)"
   ]
  },
  {
   "cell_type": "code",
   "execution_count": 2,
   "metadata": {},
   "outputs": [
    {
     "name": "stdout",
     "output_type": "stream",
     "text": [
      "[10, 20, 25, 30, 50, 60, 100]\n"
     ]
    }
   ],
   "source": [
    "list=[10,30,20,100,25,60,50]\n",
    "list.sort()\n",
    "print(list)"
   ]
  },
  {
   "cell_type": "code",
   "execution_count": 5,
   "metadata": {},
   "outputs": [
    {
     "name": "stdout",
     "output_type": "stream",
     "text": [
      "application\n",
      "str[0] = a\n",
      "str[1] = p\n",
      "str[-1] = n\n",
      "str[-3] = i\n",
      "str[1:5] = ppli\n",
      "str[::-1] = noitacilppa\n"
     ]
    }
   ],
   "source": [
    "str=\"application\"\n",
    "print(str)\n",
    "print(\"str[0] =\",str[0])\n",
    "print(\"str[1] =\",str[1])\n",
    "print(\"str[-1] =\",str[-1])\n",
    "print(\"str[-3] =\",str[-3])\n",
    "print(\"str[1:5] =\",str[1:5])\n",
    "print(\"str[::-1] =\",str[::-1])"
   ]
  },
  {
   "cell_type": "code",
   "execution_count": 3,
   "metadata": {},
   "outputs": [
    {
     "name": "stdout",
     "output_type": "stream",
     "text": [
      "palindrome\n"
     ]
    }
   ],
   "source": [
    "def palindrome(s):\n",
    "    if s==s[::-1]:\n",
    "        print(\"palindrome\")\n",
    "    else:\n",
    "        print(\"not a palindrome\")\n",
    "palindrome(\"s\")"
   ]
  },
  {
   "cell_type": "code",
   "execution_count": 4,
   "metadata": {},
   "outputs": [
    {
     "data": {
      "text/plain": [
       "11"
      ]
     },
     "execution_count": 4,
     "metadata": {},
     "output_type": "execute_result"
    }
   ],
   "source": [
    "def count(str):\n",
    "    return len(str)\n",
    "count(\"application\")"
   ]
  },
  {
   "cell_type": "code",
   "execution_count": 25,
   "metadata": {},
   "outputs": [
    {
     "name": "stdout",
     "output_type": "stream",
     "text": [
      "A "
     ]
    }
   ],
   "source": [
    "def uppercount(str):\n",
    "    cnt=0\n",
    "    lst=list(str)\n",
    "    for x in range(len(lst)):\n",
    "        if(ord(lst[x])>=65 and ord(lst[x])<=90):\n",
    "            print(lst[x],end=\" \")\n",
    "uppercount(\"Application\")"
   ]
  },
  {
   "cell_type": "code",
   "execution_count": 29,
   "metadata": {},
   "outputs": [
    {
     "name": "stdout",
     "output_type": "stream",
     "text": [
      "1 9 9 8 "
     ]
    }
   ],
   "source": [
    "def digit(str):\n",
    "    lst=list(str)\n",
    "    for x in range(len(lst)):\n",
    "        if ord(lst[x])>=48 and ord(lst[x])<=57:\n",
    "            print(lst[x],end=\" \")\n",
    "digit(\"application1998\")"
   ]
  },
  {
   "cell_type": "code",
   "execution_count": 31,
   "metadata": {},
   "outputs": [
    {
     "name": "stdout",
     "output_type": "stream",
     "text": [
      "9\n"
     ]
    }
   ],
   "source": [
    "def sum(str):\n",
    "    sum=0\n",
    "    lst=list(str)\n",
    "    for x in range(len(lst)):\n",
    "        if ord(lst[x])>=48 and ord(lst[x])<=57:\n",
    "            sum=sum+ord(lst[x])-48\n",
    "    print(sum)\n",
    "sum(\"27\")"
   ]
  },
  {
   "cell_type": "code",
   "execution_count": 38,
   "metadata": {},
   "outputs": [
    {
     "name": "stdout",
     "output_type": "stream",
     "text": [
      "10\n"
     ]
    }
   ],
   "source": [
    "def sum(str):\n",
    "    sum=0\n",
    "    lst=list(str)\n",
    "    for x in range(len(lst)):\n",
    "        if ord(lst[x])>=48 and ord(lst[x])<=57:\n",
    "            if ord(lst[x])%2==0:\n",
    "                sum=sum+ord(lst[x])-48\n",
    "    print(sum)\n",
    "sum(\"5a32c8\")"
   ]
  },
  {
   "cell_type": "code",
   "execution_count": null,
   "metadata": {},
   "outputs": [],
   "source": []
  }
 ],
 "metadata": {
  "kernelspec": {
   "display_name": "Python 3",
   "language": "python",
   "name": "python3"
  },
  "language_info": {
   "codemirror_mode": {
    "name": "ipython",
    "version": 3
   },
   "file_extension": ".py",
   "mimetype": "text/x-python",
   "name": "python",
   "nbconvert_exporter": "python",
   "pygments_lexer": "ipython3",
   "version": "3.7.3"
  }
 },
 "nbformat": 4,
 "nbformat_minor": 2
}
